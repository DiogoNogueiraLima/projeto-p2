{
  "nbformat": 4,
  "nbformat_minor": 0,
  "metadata": {
    "colab": {
      "provenance": [],
      "private_outputs": true,
      "collapsed_sections": [
        "xXOdir4iY_20",
        "VQFQbkyFZGjx",
        "qVUaa1rAb2Ng",
        "xB2L0eJ3b78Q",
        "RZNVQUJxb-wQ",
        "1Rhc0GL4cCO7"
      ]
    },
    "kernelspec": {
      "name": "python3",
      "display_name": "Python 3"
    },
    "language_info": {
      "name": "python"
    }
  },
  "cells": [
    {
      "cell_type": "markdown",
      "source": [
        "### Importando as Bibliotecas e Funções"
      ],
      "metadata": {
        "id": "xXOdir4iY_20"
      }
    },
    {
      "cell_type": "code",
      "execution_count": null,
      "metadata": {
        "id": "CgXVLwHXOyjd"
      },
      "outputs": [],
      "source": [
        "import pandas as pd\n",
        "import numpy as np\n",
        "import matplotlib.pyplot as plt\n",
        "\n",
        "pd.set_option('display.max_columns', None)\n",
        "# pd.set_option('display.max_rows', None)"
      ]
    },
    {
      "cell_type": "code",
      "source": [
        "def drop_reset_index(df):\n",
        "    df = df.dropna()\n",
        "    df = df.reset_index(drop=True)\n",
        "    df.index += 1\n",
        "    return df\n",
        "\n",
        "def plot_profit_acu(dataframe, title_text):\n",
        "    dataframe['Profit_acu'] = dataframe.Profit.cumsum()\n",
        "    dataframe['Investimento'] = 1\n",
        "    n_apostas = dataframe.shape[0]\n",
        "    profit = round(dataframe.Profit_acu.tail(1).item(), 2)\n",
        "    dataframe['Investimento_acu'] = dataframe.Investimento.cumsum()\n",
        "    ROI = round(((dataframe.Profit_acu.tail(1) / dataframe.Investimento_acu.tail(1)) * 100).item(), 2)\n",
        "    drawdown = dataframe['Profit_acu'] - dataframe['Profit_acu'].cummax()\n",
        "    drawdown_maximo = round(drawdown.min(), 2)\n",
        "    winrate_medio = round((dataframe['Profit'] > 0).mean() * 100, 2)\n",
        "    desvio_padrao = round(dataframe['Profit'].std(), 2)\n",
        "\n",
        "    ax = dataframe.Profit_acu.plot(title=title_text, xlabel='Entradas', ylabel='Stakes')\n",
        "    ax.set_title(title_text)\n",
        "    ax.set_xlabel('Entradas')\n",
        "    ax.set_ylabel('Stakes')\n",
        "\n",
        "    print(\"Metodo:\", title_text)\n",
        "    print(\"Profit:\", profit, \"stakes em\", n_apostas, \"jogos\")\n",
        "    print(\"ROI:\", ROI, \"%\")\n",
        "    print(\"Drawdown Maximo Acumulado:\", drawdown_maximo)\n",
        "    print(\"Winrate Medio:\", winrate_medio, \"%\")\n",
        "    print(\"Desvio Padrao:\", desvio_padrao)\n",
        "    print(\"\")\n",
        "\n",
        "    plt.show()"
      ],
      "metadata": {
        "id": "weVGF4JGdEUC"
      },
      "execution_count": null,
      "outputs": []
    },
    {
      "cell_type": "markdown",
      "source": [
        "### Importando a Base de Dados"
      ],
      "metadata": {
        "id": "VQFQbkyFZGjx"
      }
    },
    {
      "cell_type": "code",
      "source": [
        "df = pd.read_excel('https://github.com/futpythontrader/YouTube/raw/refs/heads/main/Bases_de_Dados/FootyStats/Base_de_Dados_FootyStats_(2022_2024).xlsx')\n",
        "df = df[['League','Season','Date','Rodada','Home','Away',\n",
        "         'Goals_H_FT','Goals_A_FT','TotalGoals_FT','Goals_H_Minutes','Goals_A_Minutes',\n",
        "         'Odd_H_FT','Odd_D_FT','Odd_A_FT','Odd_Over25_FT','Odd_Under25_FT','Odd_BTTS_Yes','Odd_BTTS_No','Odd_DC_1X','Odd_DC_12','Odd_DC_X2']]\n",
        "df = drop_reset_index(df)\n",
        "display(df)"
      ],
      "metadata": {
        "id": "EddYaEQSZEzY"
      },
      "execution_count": null,
      "outputs": []
    },
    {
      "cell_type": "code",
      "source": [
        "columns_to_filter = [\n",
        "    'Odd_Over25_FT', 'Odd_Under25_FT', 'Odd_BTTS_Yes',\n",
        "    'Odd_BTTS_No', 'Odd_DC_1X', 'Odd_DC_12', 'Odd_DC_X2'\n",
        "]\n",
        "df = df[(df[columns_to_filter] != 0).all(axis=1)]\n",
        "df = drop_reset_index(df)\n",
        "\n",
        "display(df)"
      ],
      "metadata": {
        "id": "Rt3AaajUePCJ"
      },
      "execution_count": null,
      "outputs": []
    },
    {
      "cell_type": "markdown",
      "source": [
        "### Profits dos Mercados de MO, OU25 e BTTS"
      ],
      "metadata": {
        "id": "qVUaa1rAb2Ng"
      }
    },
    {
      "cell_type": "code",
      "source": [
        "df['Back_Home'] = np.where((df['Goals_H_FT'] > df['Goals_A_FT']), 1, 0)\n",
        "df['Profit_Back_Home'] = np.where((df['Back_Home'] == 1), df['Odd_H_FT']-1, -1)\n",
        "\n",
        "df['Back_Draw'] = np.where((df['Goals_H_FT'] == df['Goals_A_FT']), 1, 0)\n",
        "df['Profit_Back_Draw'] = np.where((df['Back_Draw'] == 1), df['Odd_D_FT']-1, -1)\n",
        "\n",
        "df['Back_Away'] = np.where((df['Goals_H_FT'] < df['Goals_A_FT']), 1, 0)\n",
        "df['Profit_Back_Away'] = np.where((df['Back_Away'] == 1), df['Odd_A_FT']-1, -1)\n",
        "\n",
        "display(df)"
      ],
      "metadata": {
        "id": "pdAvrvIEZQx4"
      },
      "execution_count": null,
      "outputs": []
    },
    {
      "cell_type": "code",
      "source": [
        "df['Lay_Home'] = np.where((df['Goals_H_FT'] <= df['Goals_A_FT']), 1, 0)\n",
        "df['Profit_Lay_Home'] = np.where((df['Lay_Home'] == 1), df['Odd_DC_X2']-1, -1)\n",
        "\n",
        "df['Lay_Draw'] = np.where((df['Goals_H_FT'] != df['Goals_A_FT']), 1, 0)\n",
        "df['Profit_Lay_Draw'] = np.where((df['Lay_Draw'] == 1), df['Odd_DC_12']-1, -1)\n",
        "\n",
        "df['Lay_Away'] = np.where((df['Goals_H_FT'] >= df['Goals_A_FT']), 1, 0)\n",
        "df['Profit_Lay_Away'] = np.where((df['Lay_Away'] == 1), df['Odd_DC_1X']-1, -1)\n",
        "\n",
        "display(df)"
      ],
      "metadata": {
        "id": "M0_5JyyYcvHl"
      },
      "execution_count": null,
      "outputs": []
    },
    {
      "cell_type": "code",
      "source": [
        "df['Over_25'] = np.where((df['TotalGoals_FT'] > 2), 1, 0)\n",
        "df['Profit_Over_25'] = np.where((df['Over_25'] == 1), df['Odd_Over25_FT']-1, -1)\n",
        "\n",
        "df['Under_25'] = np.where((df['TotalGoals_FT'] < 3), 1, 0)\n",
        "df['Profit_Under_25'] = np.where((df['Under_25'] == 1), df['Odd_Under25_FT']-1, -1)\n",
        "\n",
        "display(df)"
      ],
      "metadata": {
        "id": "cdFmza-hel2y"
      },
      "execution_count": null,
      "outputs": []
    },
    {
      "cell_type": "code",
      "source": [
        "df['BTTS_Yes'] = np.where(((df['Goals_H_FT'] > 0) & (df['Goals_A_FT'] > 0)), 1, 0)\n",
        "df['Profit_BTTS_Yes'] = np.where((df['BTTS_Yes'] == 1), df['Odd_BTTS_Yes']-1, -1)\n",
        "\n",
        "df['BTTS_No'] = np.where(((df['Goals_H_FT'] == 0) | (df['Goals_A_FT'] == 0)), 1, 0)\n",
        "df['Profit_BTTS_No'] = np.where((df['BTTS_No'] == 1), df['Odd_BTTS_No']-1, -1)\n",
        "\n",
        "display(df)"
      ],
      "metadata": {
        "id": "eGomDPhQfAPE"
      },
      "execution_count": null,
      "outputs": []
    },
    {
      "cell_type": "code",
      "source": [
        "modelo = 'Back_Home'\n",
        "\n",
        "df['Profit'] = df[f'Profit_{modelo}']\n",
        "plot_profit_acu(df, f'{modelo}')"
      ],
      "metadata": {
        "id": "IDezE5RrfedY"
      },
      "execution_count": null,
      "outputs": []
    },
    {
      "cell_type": "markdown",
      "source": [
        "### Probabilidades, CV MO, Variáveis Derivadas das Odds"
      ],
      "metadata": {
        "id": "xB2L0eJ3b78Q"
      }
    },
    {
      "cell_type": "code",
      "source": [],
      "metadata": {
        "id": "4lVM4M_4b-QW"
      },
      "execution_count": null,
      "outputs": []
    },
    {
      "cell_type": "markdown",
      "source": [
        "### Variáveis de Desempenho"
      ],
      "metadata": {
        "id": "RZNVQUJxb-wQ"
      }
    },
    {
      "cell_type": "code",
      "source": [],
      "metadata": {
        "id": "55BkAgi8cAqw"
      },
      "execution_count": null,
      "outputs": []
    },
    {
      "cell_type": "markdown",
      "source": [
        "### Variáveis de Desempenho Ponderadas Pela Odd"
      ],
      "metadata": {
        "id": "1Rhc0GL4cCO7"
      }
    },
    {
      "cell_type": "code",
      "source": [],
      "metadata": {
        "id": "8x4yesTLcC05"
      },
      "execution_count": null,
      "outputs": []
    }
  ]
}